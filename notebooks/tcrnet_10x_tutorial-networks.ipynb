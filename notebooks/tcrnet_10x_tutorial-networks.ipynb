{
 "cells": [
  {
   "cell_type": "code",
   "execution_count": null,
   "id": "3ca89423",
   "metadata": {},
   "outputs": [],
   "source": [
    "%load_ext autoreload\n",
    "%autoreload 2"
   ]
  },
  {
   "cell_type": "code",
   "execution_count": null,
   "id": "4515e531",
   "metadata": {},
   "outputs": [],
   "source": [
    "import numpy as np\n",
    "import pandas as pd\n",
    "import tcrdist\n",
    "import matplotlib.pyplot as plt\n",
    "from tcrdist.repertoire import TCRrep\n",
    "from tcrdist.html_colors import get_html_colors\n",
    "from tcrdist.public import _neighbors_fixed_radius\n",
    "import pwseqdist as pw\n",
    "import networkx as nx\n",
    "import community as community_louvain\n",
    "from itertools import combinations"
   ]
  },
  {
   "cell_type": "code",
   "execution_count": null,
   "id": "8b2730bc",
   "metadata": {},
   "outputs": [],
   "source": [
    "import sys\n",
    "sys.path.append('../')"
   ]
  },
  {
   "cell_type": "code",
   "execution_count": null,
   "id": "5816510f",
   "metadata": {},
   "outputs": [],
   "source": [
    "from tcrnet.process import (\n",
    "    standardize_tcr_data, \n",
    "    preprocess_tcr_data, \n",
    "    compute_clonotype_abundances\n",
    ")\n",
    "from tcrnet.visualize import (\n",
    "    chain_pairing_configurations,\n",
    "    sequence_length_distributions,\n",
    "    clonotype_abundances,\n",
    "    top_n_clonotypes,\n",
    "    generate_network_plot\n",
    ")\n",
    "from tcrnet.networks import similarity, graph, cluster, metrics"
   ]
  },
  {
   "cell_type": "code",
   "execution_count": null,
   "id": "de210058",
   "metadata": {},
   "outputs": [],
   "source": [
    "# path to your TCR data\n",
    "SAMPLE_ID = 'COVID_01'\n",
    "clonotype_definition = ['cdr1', 'cdr2', 'cdr3']\n",
    "tcr_filepath = \"/Users/alaa/Documents/ucsf/data/tcrnet/10x/huati_gi_rr3692_01/vdj_t/filtered_contig_annotations.csv\"\n",
    "# tcr_filepath = \"/Users/alaa/Documents/ucsf/data/sars2/tcr/SEVERE2_GSM4385994_C145_filtered_contig_annotations.csv.gz\""
   ]
  },
  {
   "cell_type": "code",
   "execution_count": null,
   "id": "5604590b",
   "metadata": {},
   "outputs": [],
   "source": [
    "# load TCR data and standardize the format\n",
    "tcr_df = standardize_tcr_data(tcr_filepath=tcr_filepath, \n",
    "                              technology_platform='10X',\n",
    "#                               compression='gzip'\n",
    "                             )"
   ]
  },
  {
   "cell_type": "code",
   "execution_count": null,
   "id": "69f03244",
   "metadata": {},
   "outputs": [],
   "source": [
    "tcr_df.shape"
   ]
  },
  {
   "cell_type": "code",
   "execution_count": null,
   "id": "541bba33",
   "metadata": {},
   "outputs": [],
   "source": [
    "tcr_df"
   ]
  },
  {
   "cell_type": "code",
   "execution_count": null,
   "id": "3890182a",
   "metadata": {},
   "outputs": [],
   "source": [
    "# generate QC plot showing the different alpha-beta pairing configurations in the data\n",
    "chain_pairing_configurations(tcr_df=tcr_df, clonotype_definition=clonotype_definition)"
   ]
  },
  {
   "cell_type": "code",
   "execution_count": null,
   "id": "4e7b5c87",
   "metadata": {},
   "outputs": [],
   "source": [
    "# preprocess TCR data (chain pairing, QC, and clonotype definition)\n",
    "ptcr_df = preprocess_tcr_data(tcr_df=tcr_df, sample_id=SAMPLE_ID, clonotype_definition=clonotype_definition)"
   ]
  },
  {
   "cell_type": "code",
   "execution_count": null,
   "id": "624f10a2",
   "metadata": {},
   "outputs": [],
   "source": [
    "# ptcr_df"
   ]
  },
  {
   "cell_type": "code",
   "execution_count": null,
   "id": "4f07deab",
   "metadata": {},
   "outputs": [],
   "source": [
    "# compute clonotype abundances (absolute counts and relative frequencies)\n",
    "qtcr_df = compute_clonotype_abundances(processed_tcr_df=ptcr_df, clonotype_definition=clonotype_definition)"
   ]
  },
  {
   "cell_type": "code",
   "execution_count": null,
   "id": "50afbda0",
   "metadata": {},
   "outputs": [],
   "source": [
    "# generate panel of bar plots showing sequence length distribution across complementarity determining regions\n",
    "sequence_length_distributions(tcr_df=qtcr_df)"
   ]
  },
  {
   "cell_type": "code",
   "execution_count": null,
   "id": "d4f7e92b",
   "metadata": {},
   "outputs": [],
   "source": [
    "# generate histogram of clonotype abundances (most will likely have count = 1)\n",
    "clonotype_abundances(tcr_df=qtcr_df)"
   ]
  },
  {
   "cell_type": "code",
   "execution_count": null,
   "id": "4f39bcec",
   "metadata": {},
   "outputs": [],
   "source": [
    "# it is usually more helpful to look at clonotype abundances for clonotypes with counts > 1\n",
    "clonotype_abundances(tcr_df=qtcr_df.loc[qtcr_df['num_records']>1])"
   ]
  },
  {
   "cell_type": "code",
   "execution_count": null,
   "id": "7d902398",
   "metadata": {},
   "outputs": [],
   "source": [
    "# visualize the top clonotypes by relative abundance\n",
    "top_n_clonotypes(tcr_df=qtcr_df, top_n=13)"
   ]
  },
  {
   "cell_type": "markdown",
   "id": "490a7452",
   "metadata": {},
   "source": [
    "## Networks"
   ]
  },
  {
   "cell_type": "markdown",
   "id": "e89e53cd",
   "metadata": {},
   "source": [
    "### Similarity Matrix"
   ]
  },
  {
   "cell_type": "code",
   "execution_count": null,
   "id": "c4611b9f",
   "metadata": {},
   "outputs": [],
   "source": [
    "# network analysis parameters\n",
    "edge_threshold = 150\n",
    "clonotype_count_threshold = 2\n",
    "analysis_mode = 'private'\n",
    "top_k_clusters = 9"
   ]
  },
  {
   "cell_type": "code",
   "execution_count": null,
   "id": "f39582c6",
   "metadata": {},
   "outputs": [],
   "source": [
    "print(qtcr_df.shape)\n",
    "qtcr_df.head()"
   ]
  },
  {
   "cell_type": "code",
   "execution_count": null,
   "id": "3f89130e",
   "metadata": {},
   "outputs": [],
   "source": [
    "# compute distance matrix\n",
    "ntcr_df, distance_matrix = similarity.compute_tcrdist(qtcr_df)"
   ]
  },
  {
   "cell_type": "code",
   "execution_count": null,
   "id": "8f4cf168",
   "metadata": {},
   "outputs": [],
   "source": [
    "type(distance_matrix)"
   ]
  },
  {
   "cell_type": "code",
   "execution_count": null,
   "id": "fad023be",
   "metadata": {},
   "outputs": [],
   "source": [
    "network_df = graph.generate_graph_dataframe(ntcr_df=ntcr_df, \n",
    "                                            distance_matrix=distance_matrix,\n",
    "                                            analysis_mode=analysis_mode,\n",
    "                                            edge_threshold=edge_threshold,\n",
    "                                            count_threshold=clonotype_count_threshold)\n",
    "network_df"
   ]
  },
  {
   "cell_type": "code",
   "execution_count": null,
   "id": "2a6db6ab",
   "metadata": {},
   "outputs": [],
   "source": [
    "tcr_graph = graph.create_undirected_graph(net_df=network_df)"
   ]
  },
  {
   "cell_type": "code",
   "execution_count": null,
   "id": "c094ece8",
   "metadata": {},
   "outputs": [],
   "source": [
    "partition, cluster2color = cluster.cluster_lovain(net_df=network_df,\n",
    "                                                  color_top_k_clusters=top_k_clusters)"
   ]
  },
  {
   "cell_type": "code",
   "execution_count": null,
   "id": "f5ebddf0",
   "metadata": {},
   "outputs": [],
   "source": [
    "# \n",
    "cluster2color"
   ]
  },
  {
   "cell_type": "code",
   "execution_count": null,
   "id": "184e99d1",
   "metadata": {},
   "outputs": [],
   "source": [
    "network_df = graph.update_df_with_cluster_information(net_df=network_df, partition=partition)"
   ]
  },
  {
   "cell_type": "code",
   "execution_count": null,
   "id": "6d4f9794",
   "metadata": {},
   "outputs": [],
   "source": [
    "net_metrics = metrics.compute_network_metrics(net_df=network_df, \n",
    "                                              graph=tcr_graph, \n",
    "                                              top_k_clusters=top_k_clusters)"
   ]
  },
  {
   "cell_type": "code",
   "execution_count": null,
   "id": "3d306479",
   "metadata": {},
   "outputs": [],
   "source": [
    "net_metrics"
   ]
  },
  {
   "cell_type": "code",
   "execution_count": null,
   "id": "b6991791",
   "metadata": {},
   "outputs": [],
   "source": [
    "generate_network_plot(graph=tcr_graph, \n",
    "                      network_metrics=net_metrics, \n",
    "                      partition=partition, \n",
    "                      colors=cluster2color)"
   ]
  },
  {
   "cell_type": "code",
   "execution_count": null,
   "id": "8e1f5f49",
   "metadata": {},
   "outputs": [],
   "source": []
  },
  {
   "cell_type": "code",
   "execution_count": null,
   "id": "038cd431",
   "metadata": {},
   "outputs": [],
   "source": []
  },
  {
   "cell_type": "code",
   "execution_count": null,
   "id": "8a56e6da",
   "metadata": {},
   "outputs": [],
   "source": []
  },
  {
   "cell_type": "code",
   "execution_count": null,
   "id": "54181b53",
   "metadata": {},
   "outputs": [],
   "source": []
  },
  {
   "cell_type": "code",
   "execution_count": null,
   "id": "3d2e2fb8",
   "metadata": {},
   "outputs": [],
   "source": []
  },
  {
   "cell_type": "code",
   "execution_count": null,
   "id": "8ad8443c",
   "metadata": {},
   "outputs": [],
   "source": []
  },
  {
   "cell_type": "markdown",
   "id": "7752745a",
   "metadata": {},
   "source": [
    "# DEV"
   ]
  },
  {
   "cell_type": "code",
   "execution_count": null,
   "id": "98c5b5b8",
   "metadata": {},
   "outputs": [],
   "source": [
    "# qtcr_df"
   ]
  },
  {
   "cell_type": "code",
   "execution_count": null,
   "id": "9560db84",
   "metadata": {},
   "outputs": [],
   "source": [
    "ntcr_df = qtcr_df.rename(columns = {\n",
    "    'num_records': 'count',\n",
    "    'pct_records': 'frequency',\n",
    "    'beta_cdr1': 'cdr1_b_aa',\n",
    "    'beta_cdr2': 'cdr2_b_aa',\n",
    "    'beta_cdr3': 'cdr3_b_aa',\n",
    "    'alpha_cdr1': 'cdr1_a_aa',\n",
    "    'alpha_cdr2': 'cdr2_a_aa',\n",
    "    'alpha_cdr3': 'cdr3_a_aa',\n",
    "    'clonotype_id': 'clone_id'\n",
    "}).copy()\n",
    "ntcr_df['sample_id'] = SAMPLE_ID\n",
    "target_columns = ['count', 'frequency', \n",
    "                  'cdr1_b_aa','cdr2_b_aa', 'cdr3_b_aa', \n",
    "                  'cdr1_a_aa','cdr2_a_aa', 'cdr3_a_aa', \n",
    "                  'clone_id', 'sample_id']\n",
    "ntcr_df = ntcr_df[target_columns].copy()"
   ]
  },
  {
   "cell_type": "code",
   "execution_count": null,
   "id": "22a7f8eb",
   "metadata": {},
   "outputs": [],
   "source": [
    "# assign distance metrics and weighting for each TCR sequence\n",
    "beta_metrics = {\n",
    "    \"cdr3_b_aa\": pw.metrics.nb_vector_tcrdist,\n",
    "    \"cdr2_b_aa\": pw.metrics.nb_vector_tcrdist,\n",
    "    \"cdr1_b_aa\": pw.metrics.nb_vector_tcrdist,\n",
    "    \"cdr3_a_aa\": pw.metrics.nb_vector_tcrdist,\n",
    "    \"cdr2_a_aa\": pw.metrics.nb_vector_tcrdist,\n",
    "    \"cdr1_a_aa\": pw.metrics.nb_vector_tcrdist\n",
    "}\n",
    "\n",
    "beta_weights = {\n",
    "    \"cdr3_b_aa\": 3,\n",
    "    \"cdr2_b_aa\": 1,\n",
    "    \"cdr1_b_aa\": 1,\n",
    "    \"cdr3_a_aa\": 3,\n",
    "    \"cdr2_a_aa\": 1,\n",
    "    \"cdr1_a_aa\": 1\n",
    "}\n",
    "beta_kargs = {\n",
    "    \"cdr3_b_aa\": {\"use_numba\": True},\n",
    "    \"cdr2_b_aa\": {\"use_numba\": True},\n",
    "    \"cdr1_b_aa\": {\"use_numba\": True},\n",
    "    \"cdr3_a_aa\": {\"use_numba\": True},\n",
    "    \"cdr2_a_aa\": {\"use_numba\": True},\n",
    "    \"cdr1_a_aa\": {\"use_numba\": True}\n",
    "}\n",
    "\n",
    "dist_mat = tcrdist.rep_funcs._pws(df = ntcr_df,\n",
    "                       metrics = beta_metrics,\n",
    "                       weights = beta_weights,\n",
    "                       kargs = beta_kargs,\n",
    "                       cpu = 5,\n",
    "                       uniquify = True,\n",
    "                       store = True)"
   ]
  },
  {
   "cell_type": "code",
   "execution_count": null,
   "id": "ff98c941",
   "metadata": {},
   "outputs": [],
   "source": [
    "dist_mat"
   ]
  },
  {
   "cell_type": "code",
   "execution_count": null,
   "id": "51e7af36",
   "metadata": {},
   "outputs": [],
   "source": [
    "ntcr_df['frequency'].min(), ntcr_df['frequency'].max(), ntcr_df['frequency'].median(), ntcr_df['frequency'].mean()"
   ]
  },
  {
   "cell_type": "code",
   "execution_count": null,
   "id": "dd8fcb90",
   "metadata": {},
   "outputs": [],
   "source": [
    "# SPECIFY distance threshold for creating edges between TCR clonotypes\n",
    "edge_threshold = 150\n",
    "# specify frequency threshold for inclusion of clonotype islands\n",
    "frequency_threshold = 2\n",
    "# create set of nearest neighbors for each clonotype\n",
    "x = _neighbors_fixed_radius(dist_mat['tcrdist'], edge_threshold)\n",
    "network = list()\n",
    "# populate our network with nodes as clonotypes, and edges as similarity-distance between them\n",
    "for n1_idx, n1_neighbors in enumerate(x):\n",
    "    for n2_idx in n1_neighbors:\n",
    "        if n1_idx!=n2_idx:\n",
    "            network.append((\n",
    "                n1_idx,\n",
    "                n2_idx,\n",
    "                dist_mat['tcrdist'][n1_idx, n2_idx],\n",
    "                ntcr_df['cdr1_b_aa'].iloc[n1_idx],\n",
    "                ntcr_df['cdr1_b_aa'].iloc[n2_idx],\n",
    "                ntcr_df['cdr2_b_aa'].iloc[n1_idx],\n",
    "                ntcr_df['cdr2_b_aa'].iloc[n2_idx],\n",
    "                ntcr_df['cdr3_b_aa'].iloc[n1_idx],\n",
    "                ntcr_df['cdr3_b_aa'].iloc[n2_idx],\n",
    "                ntcr_df['cdr1_a_aa'].iloc[n1_idx],\n",
    "                ntcr_df['cdr1_a_aa'].iloc[n2_idx],\n",
    "                ntcr_df['cdr2_a_aa'].iloc[n1_idx],\n",
    "                ntcr_df['cdr2_a_aa'].iloc[n2_idx],\n",
    "                ntcr_df['cdr3_a_aa'].iloc[n1_idx],\n",
    "                ntcr_df['cdr3_a_aa'].iloc[n2_idx],\n",
    "                len(n1_neighbors),\n",
    "                False,\n",
    "                ntcr_df['clone_id'].iloc[n1_idx],\n",
    "                ntcr_df['clone_id'].iloc[n2_idx],\n",
    "                ntcr_df['sample_id'].iloc[n1_idx],\n",
    "                ntcr_df['sample_id'].iloc[n2_idx]\n",
    "            ))\n",
    "        elif ntcr_df['count'].iloc[n1_idx] >= frequency_threshold and len(n1_neighbors)==1:\n",
    "            network.append((\n",
    "                n1_idx,\n",
    "                n2_idx,\n",
    "                dist_mat['tcrdist'][n1_idx, n2_idx],\n",
    "                ntcr_df['cdr1_b_aa'].iloc[n1_idx],\n",
    "                ntcr_df['cdr1_b_aa'].iloc[n2_idx],\n",
    "                ntcr_df['cdr2_b_aa'].iloc[n1_idx],\n",
    "                ntcr_df['cdr2_b_aa'].iloc[n2_idx],\n",
    "                ntcr_df['cdr3_b_aa'].iloc[n1_idx],\n",
    "                ntcr_df['cdr3_b_aa'].iloc[n2_idx],\n",
    "                ntcr_df['cdr1_a_aa'].iloc[n1_idx],\n",
    "                ntcr_df['cdr1_a_aa'].iloc[n2_idx],\n",
    "                ntcr_df['cdr2_a_aa'].iloc[n1_idx],\n",
    "                ntcr_df['cdr2_a_aa'].iloc[n2_idx],\n",
    "                ntcr_df['cdr3_a_aa'].iloc[n1_idx],\n",
    "                ntcr_df['cdr3_a_aa'].iloc[n2_idx],\n",
    "                len(n1_neighbors),\n",
    "                True,\n",
    "                ntcr_df['clone_id'].iloc[n1_idx],\n",
    "                ntcr_df['clone_id'].iloc[n2_idx],\n",
    "                ntcr_df['sample_id'].iloc[n1_idx],\n",
    "                ntcr_df['sample_id'].iloc[n2_idx]\n",
    "            ))"
   ]
  },
  {
   "cell_type": "code",
   "execution_count": null,
   "id": "05f36d4d",
   "metadata": {},
   "outputs": [],
   "source": [
    "network"
   ]
  },
  {
   "cell_type": "code",
   "execution_count": null,
   "id": "8d6dcd72",
   "metadata": {},
   "outputs": [],
   "source": [
    "# create a dataframe representation of our network graph\n",
    "network_columns = ['node_1', 'node_2', 'distance', \n",
    "                   'cdr1_b_aa_1', 'cdr1_b_aa_2',\n",
    "                   'cdr2_b_aa_1', 'cdr2_b_aa_2',\n",
    "                   'cdr3_b_aa_1', 'cdr3_b_aa_2',\n",
    "                   'cdr1_a_aa_1', 'cdr1_a_aa_2',\n",
    "                   'cdr2_a_aa_1', 'cdr2_a_aa_2',\n",
    "                   'cdr3_a_aa_1', 'cdr3_a_aa_2',\n",
    "                   'k_neighbors', 'is_island',\n",
    "                   'clone_id_1', 'clone_id_2',\n",
    "                   'sample_id_1', 'sample_id_2']\n",
    "network_df = pd.DataFrame(network, columns = network_columns)"
   ]
  },
  {
   "cell_type": "code",
   "execution_count": null,
   "id": "4e2a8e33",
   "metadata": {
    "scrolled": true
   },
   "outputs": [],
   "source": [
    "network_df"
   ]
  },
  {
   "cell_type": "code",
   "execution_count": null,
   "id": "49cad4dd",
   "metadata": {},
   "outputs": [],
   "source": [
    "# perform network analysis on each individual subject (patient ID)\n",
    "subject_id = 'huati_06'\n",
    "top_k_clusters = 9\n",
    "# calculate the weight for each edge (connection between two TCR clonotypes)\n",
    "network_df['weight'] = (edge_threshold - network_df['distance']) / edge_threshold\n",
    "# create a field that tells us whether a connection is within a subject or between two different subjects\n",
    "network_df['relation'] = 'private'\n",
    "network_df.loc[network_df['sample_id_1']!=network_df['sample_id_2'], 'relation'] = 'public'\n",
    "# \n",
    "subnetwork_df = network_df.loc[(network_df['sample_id_1']==subject_id)\n",
    "                              &(network_df['relation']=='private')].copy()"
   ]
  },
  {
   "cell_type": "code",
   "execution_count": null,
   "id": "0ed719b4",
   "metadata": {},
   "outputs": [],
   "source": [
    "# create a undirected graph\n",
    "graph = nx.from_pandas_edgelist(pd.DataFrame({\n",
    "    'source': subnetwork_df.loc[subnetwork_df['is_island']==False, 'node_1'],\n",
    "    'target': subnetwork_df.loc[subnetwork_df['is_island']==False, 'node_2'],\n",
    "    'weight': subnetwork_df.loc[subnetwork_df['is_island']==False, 'weight'],\n",
    "}))\n",
    "# perform unsupervised clustering on the graph\n",
    "partition = community_louvain.best_partition(graph, random_state=42)\n",
    "partitions_by_cluster_size = list(pd.Series(partition.values()).value_counts().index)\n",
    "# order clusters based on their size\n",
    "partition_reorder = {idx: rank for idx, rank in zip(partitions_by_cluster_size, \n",
    "                                                    range(len(partitions_by_cluster_size)))}\n",
    "partition = {k: partition_reorder.get(v) for k, v in partition.items()}\n",
    "clusters = [i for i in pd.Series(partition.values()).value_counts().index[:top_k_clusters]]\n",
    "# assign a color for each of the top K clusters\n",
    "colors = get_html_colors(top_k_clusters)\n",
    "cluster2color = {clust: color for clust, color in zip(clusters, colors)}"
   ]
  },
  {
   "cell_type": "code",
   "execution_count": null,
   "id": "2f274c5e",
   "metadata": {},
   "outputs": [],
   "source": [
    "cols_of_interest = ['node_1', 'node_2', 'distance',\n",
    "                    'clone_id_1', 'clone_id_2','cluster_1', 'cluster_2']\n",
    "# cluster-based quantifications\n",
    "subnetwork_df['cluster_1'] = subnetwork_df['node_1'].apply(lambda x: partition.get(x, None))\n",
    "subnetwork_df['cluster_2'] = subnetwork_df['node_2'].apply(lambda x: partition.get(x, None))\n",
    "# sizes of each cluster in the left-hand side\n",
    "cluster1_sizes = (subnetwork_df\n",
    "                 .groupby('cluster_1')\n",
    "                 .agg(cluster1_size=('node_1', 'nunique'))\n",
    "                 .reset_index())\n",
    "# sizes of each cluster in the right-hand side\n",
    "cluster2_sizes = (subnetwork_df\n",
    "                 .groupby('cluster_2')\n",
    "                 .agg(cluster2_size=('node_2', 'nunique'))\n",
    "                 .reset_index())\n",
    "# adding cluster size information to our network dataframe\n",
    "subnetwork_df2 = pd.merge(subnetwork_df, cluster1_sizes, on='cluster_1')\n",
    "subnetwork_df2 = pd.merge(subnetwork_df2, cluster2_sizes, on='cluster_2')\n",
    "subnetwork_df2[cols_of_interest].head()"
   ]
  },
  {
   "cell_type": "code",
   "execution_count": null,
   "id": "26036a36",
   "metadata": {},
   "outputs": [],
   "source": [
    "# subnetwork_df2"
   ]
  },
  {
   "cell_type": "code",
   "execution_count": null,
   "id": "b937f187",
   "metadata": {},
   "outputs": [],
   "source": [
    "# add island nodes to the graph for visualization\n",
    "for i, node_island in subnetwork_df.loc[subnetwork_df['is_island']==True].iterrows():\n",
    "#     print(node_island['node_1'])\n",
    "    graph.add_node(node_island['node_1'])"
   ]
  },
  {
   "cell_type": "code",
   "execution_count": null,
   "id": "262efceb",
   "metadata": {},
   "outputs": [],
   "source": [
    "# nx_kwargs = {\"edgecolors\": \"tab:gray\", \"node_size\": 50}\n",
    "node_positions = nx.spring_layout(graph, seed=42, k=.15)"
   ]
  },
  {
   "cell_type": "code",
   "execution_count": null,
   "id": "f6f8771f",
   "metadata": {},
   "outputs": [],
   "source": []
  },
  {
   "cell_type": "code",
   "execution_count": null,
   "id": "b60c69ad",
   "metadata": {},
   "outputs": [],
   "source": [
    "subnetwork_df2.head()"
   ]
  },
  {
   "cell_type": "code",
   "execution_count": null,
   "id": "c33099eb",
   "metadata": {},
   "outputs": [],
   "source": [
    "network_df = subnetwork_df2.copy()"
   ]
  },
  {
   "cell_type": "code",
   "execution_count": null,
   "id": "38ba4df8",
   "metadata": {},
   "outputs": [],
   "source": [
    "top_k_clusters"
   ]
  },
  {
   "cell_type": "code",
   "execution_count": null,
   "id": "5a579304",
   "metadata": {},
   "outputs": [],
   "source": [
    "for cluster_combination in combinations(clusters_of_interest, 2):\n",
    "    print(cluster_combination)"
   ]
  },
  {
   "cell_type": "code",
   "execution_count": null,
   "id": "aa25ee4a",
   "metadata": {},
   "outputs": [],
   "source": [
    "n = len(graph.nodes)\n",
    "network_density = network_df.loc[network_df['node_1']!=network_df['node_2'], \n",
    "                                    'weight'].sum() / (n*(n-1))\n",
    "clusters_of_interest = list(range(0, top_k_clusters))\n",
    "intercon_df = (network_df\n",
    "               .loc[(network_df['cluster_1'].isin(clusters_of_interest))\n",
    "                   &(network_df['cluster_2'].isin(clusters_of_interest))\n",
    "                   &(network_df['cluster_1']!=network_df['cluster_2'])]\n",
    "               .copy())\n",
    "intracluster_connectivity = []\n",
    "intercluster_connectivity = []\n",
    "for cluster_combination in combinations(clusters_of_interest, 2):\n",
    "#     print(cluster_combination)\n",
    "    unicluster_df = (network_df\n",
    "                     .loc[(network_df['cluster_1']==cluster_combination[0])\n",
    "                         &(network_df['cluster_2']==cluster_combination[0])\n",
    "                         &(network_df['node_1']!=network_df['node_2'])]\n",
    "                     .copy())\n",
    "\n",
    "    intra_numerator = unicluster_df['weight'].sum()\n",
    "    assert np.nan_to_num(unicluster_df['cluster1_size'].mean())==np.nan_to_num(unicluster_df['cluster2_size'].mean()), \"Error: unexpected non-equality\"\n",
    "    intra_denominator = np.maximum(1, unicluster_df['cluster1_size'].mean()*(unicluster_df['cluster2_size'].mean()-1))\n",
    "    intracluster_connectivity.append(intra_numerator / intra_denominator)\n",
    "    bicluster_df = (intercon_df\n",
    "                     .loc[(intercon_df['cluster_1']==cluster_combination[0])\n",
    "                         &(intercon_df['cluster_2']==cluster_combination[1])]\n",
    "                     .copy())\n",
    "    inter_numerator = bicluster_df['weight'].sum()**2\n",
    "    inter_denominator = (bicluster_df['cluster1_size'].mean()*bicluster_df['cluster2_size'].mean()*np.abs(bicluster_df['cluster2_size'].mean() - bicluster_df['cluster1_size'].mean())**2)\n",
    "    intercluster_connectivity.append(np.sqrt(inter_numerator / np.maximum(1., inter_denominator)))\n",
    "intracluster_connectivity = np.nan_to_num(intracluster_connectivity)\n",
    "intercluster_connectivity = np.nan_to_num(intercluster_connectivity)"
   ]
  },
  {
   "cell_type": "code",
   "execution_count": null,
   "id": "d3082aa3",
   "metadata": {},
   "outputs": [],
   "source": [
    "intracluster_connectivity.shape"
   ]
  },
  {
   "cell_type": "code",
   "execution_count": null,
   "id": "2ad1dc34",
   "metadata": {},
   "outputs": [],
   "source": [
    "intracluster_connectivity"
   ]
  },
  {
   "cell_type": "code",
   "execution_count": null,
   "id": "193a8a2c",
   "metadata": {},
   "outputs": [],
   "source": [
    "print(f\"Network density for sample {subject_id}: {network_density:.6f}\")\n",
    "print(f\"Network intra-cluster density for sample {subject_id}: {intracluster_connectivity.mean():.6f}\")\n",
    "print(f\"Network inter-cluster density for sample {subject_id}: {intercluster_connectivity.mean():.6f}\")"
   ]
  },
  {
   "cell_type": "code",
   "execution_count": null,
   "id": "63e47852",
   "metadata": {},
   "outputs": [],
   "source": [
    "type(graph)"
   ]
  },
  {
   "cell_type": "code",
   "execution_count": null,
   "id": "530be1ce",
   "metadata": {},
   "outputs": [],
   "source": [
    "# partition"
   ]
  },
  {
   "cell_type": "code",
   "execution_count": null,
   "id": "aaa98267",
   "metadata": {},
   "outputs": [],
   "source": [
    "def generate_network_plot(graph: nx.classes.graph.Graph,\n",
    "                          partition: dict,\n",
    "                          colors: dict):\n",
    "    # set the desired figure resolution\n",
    "    plt.rcParams['figure.dpi'] = 550\n",
    "    nx_kwargs = {\"edgecolors\": \"tab:gray\"}\n",
    "    # Set the desired figure size (adjust width and height as needed)\n",
    "    fig = plt.figure(figsize=(12, 10))\n",
    "\n",
    "    # Create two separate lists of nodes for the 1st and 2nd states\n",
    "    nodes = [node for node in graph.nodes]\n",
    "\n",
    "    # Draw the network graphs with circles for the 1st state and triangles for the 2nd state\n",
    "    nx.draw(graph,\n",
    "            nodelist=nodes,  # Only nodes in the 1st state\n",
    "            pos=node_positions,\n",
    "            node_color=[colors.get(partition.get(i), 'grey') for i in nodes],\n",
    "            node_shape='o',  # Circle shape for 1st state\n",
    "            node_size=50,\n",
    "            with_labels=False,\n",
    "            **nx_kwargs)\n",
    "\n",
    "\n",
    "    # Annotate each cluster with its cluster number\n",
    "    for cluster, color in list(cluster2color.items())[:top_k_clusters]:\n",
    "        cluster_nodes = [node for node, part in partition.items() if part == cluster]\n",
    "        x, y = zip(*[node_positions[node] for node in cluster_nodes])\n",
    "        x_center, y_center = sum(x) / len(cluster_nodes), sum(y) / len(cluster_nodes)\n",
    "        plt.text(x_center, y_center, f'{cluster}', fontsize=11, \n",
    "                 color='black', ha='center', va='center', fontweight='bold')\n",
    "\n",
    "    # # Add a custom legend\n",
    "    # shape_legends = [\n",
    "    #     Line2D([0], [0], marker='o', color='w', markerfacecolor='w', \n",
    "    #            markersize=10, label='Dual', markeredgewidth=0.5, \n",
    "    #            markeredgecolor='k'),\n",
    "    #     Line2D([0], [0], marker='^', color='w', markerfacecolor='w', \n",
    "    #            markersize=10, label='Newly', markeredgewidth=0.5, \n",
    "    #            markeredgecolor='k'),\n",
    "    # ]\n",
    "\n",
    "    # size_legends = [\n",
    "    #     Line2D([0], [0], marker='o', color='w', markerfacecolor='grey',\n",
    "    #            label='< 1e-05', markersize=8, markeredgecolor='w'),\n",
    "    #     Line2D([0], [0], marker='o', color='w', markerfacecolor='grey',\n",
    "    #            label='< 5e-05', markersize=12, markeredgecolor='w'),\n",
    "    #     Line2D([0], [0], marker='o', color='w', markerfacecolor='grey',\n",
    "    #            label='< 1e-04', markersize=14, markeredgecolor='w'),\n",
    "    #     Line2D([0], [0], marker='o', color='w', markerfacecolor='grey',\n",
    "    #            label='< 5e-04', markersize=16, markeredgecolor='w'),\n",
    "    #     Line2D([0], [0], marker='o', color='w', markerfacecolor='grey',\n",
    "    #            label='< 1e-03', markersize=18, markeredgecolor='w'),\n",
    "    #     Line2D([0], [0], marker='o', color='w', markerfacecolor='grey',\n",
    "    #            label='< 5e-03', markersize=20, markeredgecolor='w'),\n",
    "    #     Line2D([0], [0], marker='o', color='w', markerfacecolor='grey',\n",
    "    #            label='< 1e-02', markersize=22, markeredgecolor='w'),\n",
    "    #     Line2D([0], [0], marker='o', color='w', markerfacecolor='grey',\n",
    "    #            label='< 5e-02', markersize=24, markeredgecolor='w'),\n",
    "    #     Line2D([0], [0], marker='o', color='w', markerfacecolor='grey',\n",
    "    #            label='< 1e-01', markersize=26, markeredgecolor='w'),\n",
    "    #     Line2D([0], [0], marker='o', color='w', markerfacecolor='grey',\n",
    "    #            label='> 5e-01', markersize=28, markeredgecolor='w'),\n",
    "    # ]\n",
    "\n",
    "    # first_legend = plt.legend(handles=shape_legends, loc='upper right', title='Clonotype Expansion State')\n",
    "    ax = plt.gca()\n",
    "    # ax.add_artist(first_legend)\n",
    "    # plt.legend(handles=size_legends, loc='upper left', title='Clonotype Frequency Post Treatment')\n",
    "\n",
    "    latex_symbol1 = r'$D_{total}$'\n",
    "    latex_symbol2 = r'$\\overline{S}(C_{x})_{x \\in [0:12]}$'\n",
    "    latex_symbol3 = r'$\\overline{S}(C_{x}, C_{y})_{x,y \\in [0:12], x \\neq y}$'\n",
    "    latex_symbol4 = r'$\\beta$'\n",
    "    plt.title(f\"Clonotypes in {SAMPLE_ID}\\nColored by overlap with top {latex_symbol4} CDR3s from scTCRseq of multimer sort (BOOSTED response)\\n{latex_symbol1} = {network_density:.6f}\\n{latex_symbol2} = {np.mean(intracluster_connectivity):.4G}\\n{latex_symbol3} = {np.mean(intercluster_connectivity):.4G}\")\n",
    "    # plt.savefig(f\"/Users/alaa/Documents/ucsf/data/rutishauser/bmgf_vax/in omniscope/clonotype_networks/bmgf_p{subject_id}_{clonotype_dynamics_directionality}_clonotypes_network_overlap_scTCRb_CDR3_multimer_sort_boosted_response_edge-threshold64_v1.png\", \n",
    "    #             dpi=550,\n",
    "    #             bbox_inches='tight')\n",
    "    plt.show()"
   ]
  },
  {
   "cell_type": "code",
   "execution_count": null,
   "id": "6c8004b3",
   "metadata": {},
   "outputs": [],
   "source": []
  }
 ],
 "metadata": {
  "kernelspec": {
   "display_name": "Python 3 (ipykernel)",
   "language": "python",
   "name": "python3"
  },
  "language_info": {
   "codemirror_mode": {
    "name": "ipython",
    "version": 3
   },
   "file_extension": ".py",
   "mimetype": "text/x-python",
   "name": "python",
   "nbconvert_exporter": "python",
   "pygments_lexer": "ipython3",
   "version": "3.10.13"
  }
 },
 "nbformat": 4,
 "nbformat_minor": 5
}
