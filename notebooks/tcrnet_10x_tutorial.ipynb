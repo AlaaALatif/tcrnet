{
 "cells": [
  {
   "cell_type": "code",
   "execution_count": null,
   "id": "4515e531",
   "metadata": {},
   "outputs": [],
   "source": [
    "from tcrnet import process, visualize"
   ]
  },
  {
   "cell_type": "code",
   "execution_count": null,
   "id": "de210058",
   "metadata": {},
   "outputs": [],
   "source": [
    "# path to your TCR data\n",
    "tcr_filepath = \"/krummellab/data1/danb/tcrnet_issue/data/SARCOID1-POOL-GC1-SCT1/filtered_contig_annotations.csv\""
   ]
  },
  {
   "cell_type": "code",
   "execution_count": null,
   "id": "24178201-061f-490b-99ea-42c18e6ef74b",
   "metadata": {},
   "outputs": [],
   "source": [
    "clonotype_definition = ['cdr1', 'cdr2', 'cdr3']"
   ]
  },
  {
   "cell_type": "code",
   "execution_count": null,
   "id": "5604590b",
   "metadata": {},
   "outputs": [],
   "source": [
    "# load TCR data and standardize the format\n",
    "tcr_df = process.standardize_tcr_data(tcr_filepath=tcr_filepath, \n",
    "                                      clonotype_definition=clonotype_definition,\n",
    "                                      technology_platform='10X')"
   ]
  },
  {
   "cell_type": "code",
   "execution_count": null,
   "id": "60b27516-3350-4f4b-b705-15cf1273c607",
   "metadata": {},
   "outputs": [],
   "source": [
    "# tcr_df.columns"
   ]
  },
  {
   "cell_type": "code",
   "execution_count": null,
   "id": "3890182a",
   "metadata": {},
   "outputs": [],
   "source": [
    "# generate QC plot showing the different alpha-beta pairing configurations in the data\n",
    "visualize.chain_pairing_configurations(tcr_df=tcr_df)"
   ]
  },
  {
   "cell_type": "code",
   "execution_count": null,
   "id": "4e7b5c87",
   "metadata": {},
   "outputs": [],
   "source": [
    "# preprocess TCR data (chain pairing, QC, and clonotype definition)\n",
    "ptcr_df = process.preprocess_tcr_data(tcr_df=tcr_df)"
   ]
  },
  {
   "cell_type": "code",
   "execution_count": null,
   "id": "4f07deab",
   "metadata": {},
   "outputs": [],
   "source": [
    "# compute clonotype abundances (absolute counts and relative frequencies)\n",
    "qtcr_df = process.compute_clonotype_abundances(processed_tcr_df=ptcr_df)"
   ]
  },
  {
   "cell_type": "code",
   "execution_count": null,
   "id": "cfb599e2-162a-4ee6-adf2-080a484eb18d",
   "metadata": {},
   "outputs": [],
   "source": [
    "qtcr_df"
   ]
  },
  {
   "cell_type": "code",
   "execution_count": null,
   "id": "50afbda0",
   "metadata": {},
   "outputs": [],
   "source": [
    "# generate panel of bar plots showing sequence length distribution across complementarity determining regions\n",
    "visualize.sequence_length_distributions(tcr_df=qtcr_df, \n",
    "                                        seq_len_colnames=['alpha_cdr1_aa_length', \n",
    "                                                          'alpha_cdr2_aa_length', \n",
    "                                                          'alpha_cdr3_aa_length', \n",
    "                                                          'beta_cdr1_aa_length', \n",
    "                                                          'beta_cdr2_aa_length', \n",
    "                                                          'beta_cdr3_aa_length'])"
   ]
  },
  {
   "cell_type": "code",
   "execution_count": null,
   "id": "d4f7e92b",
   "metadata": {},
   "outputs": [],
   "source": [
    "# generate histogram of clonotype abundances (most will likely have count = 1)\n",
    "visualize.clonotype_abundances(tcr_df=qtcr_df)"
   ]
  },
  {
   "cell_type": "code",
   "execution_count": null,
   "id": "4f39bcec",
   "metadata": {},
   "outputs": [],
   "source": [
    "# it is usually more helpful to look at clonotype abundances for clonotypes with counts > 1\n",
    "visualize.clonotype_abundances(tcr_df=qtcr_df.loc[qtcr_df['num_records']>1])"
   ]
  },
  {
   "cell_type": "code",
   "execution_count": null,
   "id": "7d902398",
   "metadata": {},
   "outputs": [],
   "source": [
    "# visualize the top clonotypes by relative abundance\n",
    "visualize.top_n_clonotypes(tcr_df=qtcr_df, top_n=13)"
   ]
  },
  {
   "cell_type": "code",
   "execution_count": null,
   "id": "53322a40",
   "metadata": {},
   "outputs": [],
   "source": []
  }
 ],
 "metadata": {
  "kernelspec": {
   "display_name": "tcrnet",
   "language": "python",
   "name": "tcrnet"
  },
  "language_info": {
   "codemirror_mode": {
    "name": "ipython",
    "version": 3
   },
   "file_extension": ".py",
   "mimetype": "text/x-python",
   "name": "python",
   "nbconvert_exporter": "python",
   "pygments_lexer": "ipython3",
   "version": "3.10.16"
  }
 },
 "nbformat": 4,
 "nbformat_minor": 5
}
