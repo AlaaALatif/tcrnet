{
 "cells": [
  {
   "cell_type": "code",
   "execution_count": null,
   "id": "1e985c08",
   "metadata": {},
   "outputs": [],
   "source": [
    "%load_ext autoreload\n",
    "%autoreload 2"
   ]
  },
  {
   "cell_type": "code",
   "execution_count": null,
   "id": "42614183",
   "metadata": {},
   "outputs": [],
   "source": [
    "import numpy as np\n",
    "import pandas as pd\n",
    "import tcrdist\n",
    "import matplotlib.pyplot as plt\n",
    "from tcrdist.repertoire import TCRrep\n",
    "from tcrdist.html_colors import get_html_colors\n",
    "from tcrdist.public import _neighbors_fixed_radius\n",
    "import pwseqdist as pw\n",
    "import networkx as nx\n",
    "import community as community_louvain\n",
    "from itertools import combinations"
   ]
  },
  {
   "cell_type": "code",
   "execution_count": null,
   "id": "e8a7f728",
   "metadata": {},
   "outputs": [],
   "source": [
    "import sys\n",
    "sys.path.append('../')"
   ]
  },
  {
   "cell_type": "code",
   "execution_count": null,
   "id": "5a3eb387",
   "metadata": {},
   "outputs": [],
   "source": [
    "from tcrnet.process import (\n",
    "    standardize_tcr_data, \n",
    "    preprocess_tcr_data, \n",
    "    compute_clonotype_abundances\n",
    ")\n",
    "from tcrnet.visualize import (\n",
    "    chain_pairing_configurations,\n",
    "    sequence_length_distributions,\n",
    "    clonotype_abundances,\n",
    "    top_n_clonotypes,\n",
    "    generate_network_plot\n",
    ")\n",
    "from tcrnet.networks import similarity, graph, cluster, metrics"
   ]
  },
  {
   "cell_type": "code",
   "execution_count": null,
   "id": "7e47c336",
   "metadata": {},
   "outputs": [],
   "source": [
    "# path to your TCR data\n",
    "SAMPLE_SIZE = 100000\n",
    "SAMPLE_ID = 'HIV_01'\n",
    "clonotype_definition = ['cdr1_aa', 'cdr2_aa', 'cdr3_aa']\n",
    "tcr_filepath = \"pre_placebo_3162_B.csv\""
   ]
  },
  {
   "cell_type": "code",
   "execution_count": null,
   "id": "1afdfeeb",
   "metadata": {},
   "outputs": [],
   "source": [
    "tcr_df = standardize_tcr_data(tcr_filepath=tcr_filepath, technology_platform='Omniscope')"
   ]
  },
  {
   "cell_type": "code",
   "execution_count": null,
   "id": "ed3cae2b",
   "metadata": {},
   "outputs": [],
   "source": [
    "tcr_df = tcr_df.sample(SAMPLE_SIZE)"
   ]
  },
  {
   "cell_type": "code",
   "execution_count": null,
   "id": "d32e54c4",
   "metadata": {},
   "outputs": [],
   "source": [
    "ptcr_df = preprocess_tcr_data(tcr_df=tcr_df,\n",
    "                        sample_id='p3162_pre',\n",
    "                        clonotype_definition=clonotype_definition,\n",
    "                        chain='beta')"
   ]
  },
  {
   "cell_type": "code",
   "execution_count": null,
   "id": "23ce9869",
   "metadata": {},
   "outputs": [],
   "source": [
    "# %debug\n",
    "qtcr_df = compute_clonotype_abundances(processed_tcr_df=ptcr_df,\n",
    "                             clonotype_definition=clonotype_definition,\n",
    "                             chain='beta')"
   ]
  },
  {
   "cell_type": "code",
   "execution_count": null,
   "id": "e0c1952b",
   "metadata": {
    "scrolled": true
   },
   "outputs": [],
   "source": [
    "qtcr_df.head()"
   ]
  },
  {
   "cell_type": "code",
   "execution_count": null,
   "id": "b8b162cf",
   "metadata": {},
   "outputs": [],
   "source": [
    "# network analysis parameters\n",
    "chain = 'beta'\n",
    "edge_threshold = 64\n",
    "clonotype_count_threshold = 2\n",
    "analysis_mode = 'private'\n",
    "top_k_clusters = 9"
   ]
  },
  {
   "cell_type": "code",
   "execution_count": null,
   "id": "78f84fa9",
   "metadata": {},
   "outputs": [],
   "source": [
    "qtcr_df = qtcr_df.loc[qtcr_df['num_records']>1].copy()"
   ]
  },
  {
   "cell_type": "code",
   "execution_count": null,
   "id": "6b5c7f1a",
   "metadata": {},
   "outputs": [],
   "source": [
    "qtcr_df['num_records'].value_counts()"
   ]
  },
  {
   "cell_type": "code",
   "execution_count": null,
   "id": "78bf9a82",
   "metadata": {},
   "outputs": [],
   "source": [
    "# compute distance matrix\n",
    "ntcr_df, distance_matrix = similarity.compute_tcrdist(qtcr_df = qtcr_df, \n",
    "                                                      chain=chain,\n",
    "                                                      clonotype_definition=clonotype_definition)"
   ]
  },
  {
   "cell_type": "code",
   "execution_count": null,
   "id": "341487fe",
   "metadata": {},
   "outputs": [],
   "source": [
    "network_df = graph.generate_graph_dataframe(ntcr_df=ntcr_df, \n",
    "                                            distance_matrix=distance_matrix,\n",
    "                                            clonotype_definition=clonotype_definition,\n",
    "                                            chain=chain,\n",
    "                                            analysis_mode=analysis_mode,\n",
    "                                            edge_threshold=edge_threshold,\n",
    "                                            count_threshold=clonotype_count_threshold)\n",
    "network_df.head()"
   ]
  },
  {
   "cell_type": "code",
   "execution_count": null,
   "id": "36c3453e",
   "metadata": {},
   "outputs": [],
   "source": [
    "tcr_graph = graph.create_undirected_graph(net_df=network_df)"
   ]
  },
  {
   "cell_type": "code",
   "execution_count": null,
   "id": "38dad34c",
   "metadata": {},
   "outputs": [],
   "source": [
    "partition = cluster.cluster_lovain(net_df=network_df)\n",
    "cluster2color = cluster.generate_cluster_colors(partition=partition, \n",
    "                                                color_top_k_clusters=top_k_clusters)"
   ]
  },
  {
   "cell_type": "code",
   "execution_count": null,
   "id": "9d8efdf4",
   "metadata": {},
   "outputs": [],
   "source": [
    "cluster2color"
   ]
  },
  {
   "cell_type": "code",
   "execution_count": null,
   "id": "3ad7895b",
   "metadata": {},
   "outputs": [],
   "source": [
    "network_df = graph.update_df_with_cluster_information(net_df=network_df, partition=partition)"
   ]
  },
  {
   "cell_type": "code",
   "execution_count": null,
   "id": "d99af06b",
   "metadata": {},
   "outputs": [],
   "source": [
    "net_metrics = metrics.compute_network_metrics(net_df=network_df, \n",
    "                                              graph=tcr_graph, \n",
    "                                              top_k_clusters=top_k_clusters)"
   ]
  },
  {
   "cell_type": "code",
   "execution_count": null,
   "id": "aae6b3b7",
   "metadata": {
    "scrolled": true
   },
   "outputs": [],
   "source": [
    "generate_network_plot(graph=tcr_graph, \n",
    "                      network_metrics=net_metrics, \n",
    "                      partition=partition, \n",
    "                      colors=cluster2color,\n",
    "                      output_filepath=\"/Users/alaa/Documents/ucsf/data/rutishauser/bmgf_vax/omniscope/clonotype_networks/bmgf_p3162_POST_clonotypes_network_louvain_clusters_edge-threshold64_v1.png\",\n",
    "                      plot_title=\"p3162 POST\",\n",
    "                      dpi=223)"
   ]
  },
  {
   "cell_type": "code",
   "execution_count": null,
   "id": "36694926",
   "metadata": {},
   "outputs": [],
   "source": []
  }
 ],
 "metadata": {
  "kernelspec": {
   "display_name": "Python 3 (ipykernel)",
   "language": "python",
   "name": "python3"
  },
  "language_info": {
   "codemirror_mode": {
    "name": "ipython",
    "version": 3
   },
   "file_extension": ".py",
   "mimetype": "text/x-python",
   "name": "python",
   "nbconvert_exporter": "python",
   "pygments_lexer": "ipython3",
   "version": "3.10.13"
  }
 },
 "nbformat": 4,
 "nbformat_minor": 5
}
